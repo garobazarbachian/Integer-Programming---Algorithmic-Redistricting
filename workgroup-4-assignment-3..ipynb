{
 "cells": [
  {
   "cell_type": "markdown",
   "metadata": {},
   "source": [
    "# Algorithmic Redisctricting - Group: James, Garo, Manny"
   ]
  },
  {
   "cell_type": "markdown",
   "metadata": {},
   "source": [
    "### Data Preparation\n",
    "\n",
    "First, we will set up this notebook so that it will display multiple outputs for each cell if needed, as well as load the necessary libraries."
   ]
  },
  {
   "cell_type": "code",
   "execution_count": 1,
   "metadata": {},
   "outputs": [],
   "source": [
    "from IPython.core.interactiveshell import InteractiveShell\n",
    "InteractiveShell.ast_node_interactivity = \"all\""
   ]
  },
  {
   "cell_type": "code",
   "execution_count": 5,
   "metadata": {},
   "outputs": [],
   "source": [
    "from pulp import LpProblem, LpVariable, lpSum, LpBinary, PULP_CBC_CMD, LpStatus\n",
    "import pandas as pd\n",
    "\n",
    "# Assuming `indiana_population_cleaned` is already loaded and cleaned as previously shown\n",
    "#indiana_population_cleaned = pd.read_csv('/Users/jck/Documents/MSDS 460/Module 6/Assignment3/Indiana Population Dataset.csv')\n",
    "# For adjacency, we'll need a data structure like this, assuming it's available:\n",
    "# adjacency = {'County1': ['County2', 'County3'], ...}\n"
   ]
  },
  {
   "cell_type": "code",
   "execution_count": 7,
   "metadata": {},
   "outputs": [
    {
     "data": {
      "text/plain": [
       "'C:\\\\Users\\\\mhi573\\\\OneDrive - Northwestern University\\\\Documents\\\\MSDS460\\\\A3. Algorithmic Redistricting\\\\Integer-Programming---Algorithmic-Redistricting'"
      ]
     },
     "execution_count": 7,
     "metadata": {},
     "output_type": "execute_result"
    },
    {
     "data": {
      "text/html": [
       "<div>\n",
       "<style scoped>\n",
       "    .dataframe tbody tr th:only-of-type {\n",
       "        vertical-align: middle;\n",
       "    }\n",
       "\n",
       "    .dataframe tbody tr th {\n",
       "        vertical-align: top;\n",
       "    }\n",
       "\n",
       "    .dataframe thead th {\n",
       "        text-align: right;\n",
       "    }\n",
       "</style>\n",
       "<table border=\"1\" class=\"dataframe\">\n",
       "  <thead>\n",
       "    <tr style=\"text-align: right;\">\n",
       "      <th></th>\n",
       "      <th>County</th>\n",
       "      <th>District</th>\n",
       "      <th>Latitude</th>\n",
       "      <th>Longitude</th>\n",
       "      <th>White Alone</th>\n",
       "      <th>Black Alone</th>\n",
       "      <th>American Ind. or Alaskan Native Alone</th>\n",
       "      <th>Asian Alone</th>\n",
       "      <th>Native Hawaiian and Other Pac. Isl. Alone</th>\n",
       "      <th>Two or More Races</th>\n",
       "      <th>Total</th>\n",
       "      <th>% White</th>\n",
       "    </tr>\n",
       "  </thead>\n",
       "  <tbody>\n",
       "    <tr>\n",
       "      <th>0</th>\n",
       "      <td>Lake County, IN</td>\n",
       "      <td>1</td>\n",
       "      <td>41.42</td>\n",
       "      <td>-87.47</td>\n",
       "      <td>354,449</td>\n",
       "      <td>122,399</td>\n",
       "      <td>2,813</td>\n",
       "      <td>8614</td>\n",
       "      <td>335</td>\n",
       "      <td>11,079</td>\n",
       "      <td>499,689</td>\n",
       "      <td>71%</td>\n",
       "    </tr>\n",
       "    <tr>\n",
       "      <th>1</th>\n",
       "      <td>Porter County, IN</td>\n",
       "      <td>1</td>\n",
       "      <td>41.46</td>\n",
       "      <td>-87.06</td>\n",
       "      <td>159,440</td>\n",
       "      <td>8,665</td>\n",
       "      <td>687</td>\n",
       "      <td>2627</td>\n",
       "      <td>75</td>\n",
       "      <td>3,297</td>\n",
       "      <td>174,791</td>\n",
       "      <td>91%</td>\n",
       "    </tr>\n",
       "    <tr>\n",
       "      <th>2</th>\n",
       "      <td>Elkhart County, IN</td>\n",
       "      <td>2</td>\n",
       "      <td>41.60</td>\n",
       "      <td>-85.87</td>\n",
       "      <td>184,740</td>\n",
       "      <td>12,423</td>\n",
       "      <td>1,424</td>\n",
       "      <td>2702</td>\n",
       "      <td>192</td>\n",
       "      <td>5,409</td>\n",
       "      <td>206,890</td>\n",
       "      <td>89%</td>\n",
       "    </tr>\n",
       "    <tr>\n",
       "      <th>3</th>\n",
       "      <td>Fulton County, IN</td>\n",
       "      <td>2</td>\n",
       "      <td>41.05</td>\n",
       "      <td>-86.26</td>\n",
       "      <td>19,504</td>\n",
       "      <td>191</td>\n",
       "      <td>197</td>\n",
       "      <td>143</td>\n",
       "      <td>6</td>\n",
       "      <td>286</td>\n",
       "      <td>20,327</td>\n",
       "      <td>96%</td>\n",
       "    </tr>\n",
       "    <tr>\n",
       "      <th>4</th>\n",
       "      <td>Kosciusko County, IN</td>\n",
       "      <td>2</td>\n",
       "      <td>41.24</td>\n",
       "      <td>-85.85</td>\n",
       "      <td>76,886</td>\n",
       "      <td>1,019</td>\n",
       "      <td>405</td>\n",
       "      <td>1250</td>\n",
       "      <td>58</td>\n",
       "      <td>1,208</td>\n",
       "      <td>80,826</td>\n",
       "      <td>95%</td>\n",
       "    </tr>\n",
       "  </tbody>\n",
       "</table>\n",
       "</div>"
      ],
      "text/plain": [
       "                 County  District  Latitude  Longitude White Alone  \\\n",
       "0       Lake County, IN         1     41.42     -87.47     354,449   \n",
       "1     Porter County, IN         1     41.46     -87.06     159,440   \n",
       "2    Elkhart County, IN         2     41.60     -85.87     184,740   \n",
       "3     Fulton County, IN         2     41.05     -86.26      19,504   \n",
       "4  Kosciusko County, IN         2     41.24     -85.85      76,886   \n",
       "\n",
       "  Black Alone American Ind. or Alaskan Native Alone  Asian Alone  \\\n",
       "0     122,399                                 2,813         8614   \n",
       "1       8,665                                   687         2627   \n",
       "2      12,423                                 1,424         2702   \n",
       "3         191                                   197          143   \n",
       "4       1,019                                   405         1250   \n",
       "\n",
       "   Native Hawaiian and Other Pac. Isl. Alone Two or More Races    Total  \\\n",
       "0                                        335            11,079  499,689   \n",
       "1                                         75             3,297  174,791   \n",
       "2                                        192             5,409  206,890   \n",
       "3                                          6               286   20,327   \n",
       "4                                         58             1,208   80,826   \n",
       "\n",
       "  % White  \n",
       "0     71%  \n",
       "1     91%  \n",
       "2     89%  \n",
       "3     96%  \n",
       "4     95%  "
      ]
     },
     "execution_count": 7,
     "metadata": {},
     "output_type": "execute_result"
    },
    {
     "data": {
      "text/plain": [
       "(92, 12)"
      ]
     },
     "execution_count": 7,
     "metadata": {},
     "output_type": "execute_result"
    }
   ],
   "source": [
    "import pandas as pd\n",
    "import os\n",
    "\n",
    "os.getcwd()\n",
    "\n",
    "#set working Directory to where class corpus is saved.\n",
    "os.chdir('/Users/mhi573/OneDrive - Northwestern University/Documents/MSDS460/A3. Algorithmic Redistricting/Integer-Programming---Algorithmic-Redistricting')\n",
    "#os.chdir('/Users/mhurt/Documents/MSDS460')\n",
    "\n",
    "#read in class corpus csv into python\n",
    "data = pd.read_csv('Indiana Population Dataset.csv')\n",
    "\n",
    "# show first five rows of the data\n",
    "data.head()\n",
    "# show number of columns and rows\n",
    "data.shape"
   ]
  },
  {
   "cell_type": "markdown",
   "metadata": {},
   "source": [
    "## Let's setup the problem"
   ]
  },
  {
   "cell_type": "code",
   "execution_count": 16,
   "metadata": {},
   "outputs": [],
   "source": [
    "import pandas as pd\n",
    "import pulp\n",
    "\n",
    "# Read county data into a DataFrame\n",
    "df = pd.read_csv('Indiana Population Dataset.csv')  \n",
    "\n",
    "# Define the number of groups\n",
    "num_groups = 9\n",
    "\n",
    "# Create a dictionary from the DataFrame for easier access\n",
    "county_data = {}\n",
    "for index, row in df.iterrows():\n",
    "    county_name = row['County']\n",
    "    population = row['Total']\n",
    "    latitude = row['Latitude']\n",
    "    longitude = row['Longitude']\n",
    "    county_data[county_name] = {'population': population, 'latitude': latitude, 'longitude': longitude}\n",
    "\n",
    "# Create a PuLP problem\n",
    "prob = pulp.LpProblem(\"County_Grouping\", pulp.LpMinimize)\n",
    "\n",
    "# Define decision variables\n",
    "assign = pulp.LpVariable.dicts(\"Assign\", ((county, group) for county in county_data for group in range(num_groups)), 0, 1, pulp.LpBinary)\n"
   ]
  },
  {
   "cell_type": "code",
   "execution_count": 12,
   "metadata": {},
   "outputs": [
    {
     "ename": "KeyError",
     "evalue": "'Lake County, IN'",
     "output_type": "error",
     "traceback": [
      "\u001b[1;31m---------------------------------------------------------------------------\u001b[0m",
      "\u001b[1;31mKeyError\u001b[0m                                  Traceback (most recent call last)",
      "\u001b[1;32m~\\AppData\\Local\\Temp\\ipykernel_7476\\1725548308.py\u001b[0m in \u001b[0;36m<module>\u001b[1;34m\u001b[0m\n\u001b[0;32m     24\u001b[0m \u001b[1;33m\u001b[0m\u001b[0m\n\u001b[0;32m     25\u001b[0m \u001b[1;31m# Define objective function (minimize imbalance in population)\u001b[0m\u001b[1;33m\u001b[0m\u001b[1;33m\u001b[0m\u001b[0m\n\u001b[1;32m---> 26\u001b[1;33m \u001b[0mprob\u001b[0m \u001b[1;33m+=\u001b[0m \u001b[0mpulp\u001b[0m\u001b[1;33m.\u001b[0m\u001b[0mlpSum\u001b[0m\u001b[1;33m(\u001b[0m\u001b[1;33m[\u001b[0m\u001b[0mcounty_data\u001b[0m\u001b[1;33m[\u001b[0m\u001b[0mcounty\u001b[0m\u001b[1;33m]\u001b[0m\u001b[1;33m[\u001b[0m\u001b[1;34m'population'\u001b[0m\u001b[1;33m]\u001b[0m \u001b[1;33m*\u001b[0m \u001b[0massign\u001b[0m\u001b[1;33m[\u001b[0m\u001b[0mcounty\u001b[0m\u001b[1;33m]\u001b[0m\u001b[1;33m[\u001b[0m\u001b[0mgroup\u001b[0m\u001b[1;33m]\u001b[0m \u001b[1;32mfor\u001b[0m \u001b[0mcounty\u001b[0m \u001b[1;32min\u001b[0m \u001b[0mcounty_data\u001b[0m \u001b[1;32mfor\u001b[0m \u001b[0mgroup\u001b[0m \u001b[1;32min\u001b[0m \u001b[0mrange\u001b[0m\u001b[1;33m(\u001b[0m\u001b[0mnum_groups\u001b[0m\u001b[1;33m)\u001b[0m\u001b[1;33m]\u001b[0m\u001b[1;33m)\u001b[0m\u001b[1;33m\u001b[0m\u001b[1;33m\u001b[0m\u001b[0m\n\u001b[0m\u001b[0;32m     27\u001b[0m \u001b[1;33m\u001b[0m\u001b[0m\n\u001b[0;32m     28\u001b[0m \u001b[1;31m# Constraint: Each county must be assigned to exactly one group\u001b[0m\u001b[1;33m\u001b[0m\u001b[1;33m\u001b[0m\u001b[0m\n",
      "\u001b[1;32m~\\AppData\\Local\\Temp\\ipykernel_7476\\1725548308.py\u001b[0m in \u001b[0;36m<listcomp>\u001b[1;34m(.0)\u001b[0m\n\u001b[0;32m     24\u001b[0m \u001b[1;33m\u001b[0m\u001b[0m\n\u001b[0;32m     25\u001b[0m \u001b[1;31m# Define objective function (minimize imbalance in population)\u001b[0m\u001b[1;33m\u001b[0m\u001b[1;33m\u001b[0m\u001b[0m\n\u001b[1;32m---> 26\u001b[1;33m \u001b[0mprob\u001b[0m \u001b[1;33m+=\u001b[0m \u001b[0mpulp\u001b[0m\u001b[1;33m.\u001b[0m\u001b[0mlpSum\u001b[0m\u001b[1;33m(\u001b[0m\u001b[1;33m[\u001b[0m\u001b[0mcounty_data\u001b[0m\u001b[1;33m[\u001b[0m\u001b[0mcounty\u001b[0m\u001b[1;33m]\u001b[0m\u001b[1;33m[\u001b[0m\u001b[1;34m'population'\u001b[0m\u001b[1;33m]\u001b[0m \u001b[1;33m*\u001b[0m \u001b[0massign\u001b[0m\u001b[1;33m[\u001b[0m\u001b[0mcounty\u001b[0m\u001b[1;33m]\u001b[0m\u001b[1;33m[\u001b[0m\u001b[0mgroup\u001b[0m\u001b[1;33m]\u001b[0m \u001b[1;32mfor\u001b[0m \u001b[0mcounty\u001b[0m \u001b[1;32min\u001b[0m \u001b[0mcounty_data\u001b[0m \u001b[1;32mfor\u001b[0m \u001b[0mgroup\u001b[0m \u001b[1;32min\u001b[0m \u001b[0mrange\u001b[0m\u001b[1;33m(\u001b[0m\u001b[0mnum_groups\u001b[0m\u001b[1;33m)\u001b[0m\u001b[1;33m]\u001b[0m\u001b[1;33m)\u001b[0m\u001b[1;33m\u001b[0m\u001b[1;33m\u001b[0m\u001b[0m\n\u001b[0m\u001b[0;32m     27\u001b[0m \u001b[1;33m\u001b[0m\u001b[0m\n\u001b[0;32m     28\u001b[0m \u001b[1;31m# Constraint: Each county must be assigned to exactly one group\u001b[0m\u001b[1;33m\u001b[0m\u001b[1;33m\u001b[0m\u001b[0m\n",
      "\u001b[1;31mKeyError\u001b[0m: 'Lake County, IN'"
     ]
    }
   ],
   "source": [
    "\n",
    "# Define objective function (minimize imbalance in population)\n",
    "prob += pulp.lpSum([county_data[county]['population'] * assign[county][group] for county in county_data for group in range(num_groups)])\n",
    "\n",
    "# Constraint: Each county must be assigned to exactly one group\n",
    "for county in county_data:\n",
    "    prob += pulp.lpSum([assign[county][group] for group in range(num_groups)]) == 1\n",
    "\n",
    "# Constraint: Population balance across groups\n",
    "total_population = sum(county_data[county]['population'] for county in county_data)\n",
    "group_population = total_population // num_groups\n",
    "for group in range(num_groups):\n",
    "    prob += pulp.lpSum([county_data[county]['population'] * assign[county][group] for county in county_data]) >= group_population\n",
    "    prob += pulp.lpSum([county_data[county]['population'] * assign[county][group] for county in county_data]) <= group_population + 1\n",
    "\n",
    "    \n",
    "# Constraint: If population is greater than 761,000, assign county to its own group\n",
    "for county in county_data:\n",
    "    if county_data[county]['population'] > 761000:\n",
    "        prob += pulp.lpSum([assign[county][group] for group in range(num_groups)]) == 1\n",
    "\n",
    "        \n",
    "# Constraint: Adjacent counties must be in the same group\n",
    "# Add your adjacency constraints here using latitude and longitude data\n",
    "\n",
    "# Solve the ILP\n",
    "prob.solve()\n",
    "\n",
    "# Output the results\n",
    "for county in county_data:\n",
    "    for group in range(num_groups):\n",
    "        if pulp.value(assign[county][group]) == 1:\n",
    "            print(f\"{county} is assigned to group {group+1}\")\n"
   ]
  },
  {
   "cell_type": "code",
   "execution_count": null,
   "metadata": {},
   "outputs": [],
   "source": []
  },
  {
   "cell_type": "code",
   "execution_count": null,
   "metadata": {},
   "outputs": [],
   "source": []
  },
  {
   "cell_type": "code",
   "execution_count": null,
   "metadata": {},
   "outputs": [],
   "source": []
  },
  {
   "cell_type": "code",
   "execution_count": 9,
   "metadata": {},
   "outputs": [
    {
     "ename": "KeyError",
     "evalue": "'Geography'",
     "output_type": "error",
     "traceback": [
      "\u001b[0;31m---------------------------------------------------------------------------\u001b[0m",
      "\u001b[0;31mKeyError\u001b[0m                                  Traceback (most recent call last)",
      "File \u001b[0;32m~/anaconda3/lib/python3.11/site-packages/pandas/core/indexes/base.py:3790\u001b[0m, in \u001b[0;36mIndex.get_loc\u001b[0;34m(self, key)\u001b[0m\n\u001b[1;32m   3789\u001b[0m \u001b[38;5;28;01mtry\u001b[39;00m:\n\u001b[0;32m-> 3790\u001b[0m     \u001b[38;5;28;01mreturn\u001b[39;00m \u001b[38;5;28mself\u001b[39m\u001b[38;5;241m.\u001b[39m_engine\u001b[38;5;241m.\u001b[39mget_loc(casted_key)\n\u001b[1;32m   3791\u001b[0m \u001b[38;5;28;01mexcept\u001b[39;00m \u001b[38;5;167;01mKeyError\u001b[39;00m \u001b[38;5;28;01mas\u001b[39;00m err:\n",
      "File \u001b[0;32mindex.pyx:152\u001b[0m, in \u001b[0;36mpandas._libs.index.IndexEngine.get_loc\u001b[0;34m()\u001b[0m\n",
      "File \u001b[0;32mindex.pyx:181\u001b[0m, in \u001b[0;36mpandas._libs.index.IndexEngine.get_loc\u001b[0;34m()\u001b[0m\n",
      "File \u001b[0;32mpandas/_libs/hashtable_class_helper.pxi:7080\u001b[0m, in \u001b[0;36mpandas._libs.hashtable.PyObjectHashTable.get_item\u001b[0;34m()\u001b[0m\n",
      "File \u001b[0;32mpandas/_libs/hashtable_class_helper.pxi:7088\u001b[0m, in \u001b[0;36mpandas._libs.hashtable.PyObjectHashTable.get_item\u001b[0;34m()\u001b[0m\n",
      "\u001b[0;31mKeyError\u001b[0m: 'Geography'",
      "\nThe above exception was the direct cause of the following exception:\n",
      "\u001b[0;31mKeyError\u001b[0m                                  Traceback (most recent call last)",
      "Cell \u001b[0;32mIn[9], line 16\u001b[0m\n\u001b[1;32m     13\u001b[0m model \u001b[38;5;241m=\u001b[39m LpProblem(\u001b[38;5;124m\"\u001b[39m\u001b[38;5;124mIndiana_Redistricting\u001b[39m\u001b[38;5;124m\"\u001b[39m, LpBinary)\n\u001b[1;32m     15\u001b[0m \u001b[38;5;66;03m# Decision variables: x[county][district] == 1 if county is in district, 0 otherwise\u001b[39;00m\n\u001b[0;32m---> 16\u001b[0m x \u001b[38;5;241m=\u001b[39m LpVariable\u001b[38;5;241m.\u001b[39mdicts(\u001b[38;5;124m\"\u001b[39m\u001b[38;5;124mcounty_district\u001b[39m\u001b[38;5;124m\"\u001b[39m, (indiana_population_cleaned[\u001b[38;5;124m'\u001b[39m\u001b[38;5;124mGeography\u001b[39m\u001b[38;5;124m'\u001b[39m], \u001b[38;5;28mrange\u001b[39m(num_districts)), cat\u001b[38;5;241m=\u001b[39m\u001b[38;5;124m'\u001b[39m\u001b[38;5;124mBinary\u001b[39m\u001b[38;5;124m'\u001b[39m)\n\u001b[1;32m     18\u001b[0m \u001b[38;5;66;03m# Objective: None specified, could be minimizing the standard deviation of population across districts\u001b[39;00m\n\u001b[1;32m     19\u001b[0m \u001b[38;5;66;03m# This would ensure compactness by minimizing the population spread\u001b[39;00m\n\u001b[1;32m     20\u001b[0m \n\u001b[1;32m     21\u001b[0m \u001b[38;5;66;03m# Constraints\u001b[39;00m\n\u001b[1;32m     22\u001b[0m \n\u001b[1;32m     23\u001b[0m \u001b[38;5;66;03m# Each county must be in exactly one district\u001b[39;00m\n\u001b[1;32m     24\u001b[0m \u001b[38;5;28;01mfor\u001b[39;00m county \u001b[38;5;129;01min\u001b[39;00m indiana_population_cleaned[\u001b[38;5;124m'\u001b[39m\u001b[38;5;124mGeography\u001b[39m\u001b[38;5;124m'\u001b[39m]:\n",
      "File \u001b[0;32m~/anaconda3/lib/python3.11/site-packages/pandas/core/frame.py:3896\u001b[0m, in \u001b[0;36mDataFrame.__getitem__\u001b[0;34m(self, key)\u001b[0m\n\u001b[1;32m   3894\u001b[0m \u001b[38;5;28;01mif\u001b[39;00m \u001b[38;5;28mself\u001b[39m\u001b[38;5;241m.\u001b[39mcolumns\u001b[38;5;241m.\u001b[39mnlevels \u001b[38;5;241m>\u001b[39m \u001b[38;5;241m1\u001b[39m:\n\u001b[1;32m   3895\u001b[0m     \u001b[38;5;28;01mreturn\u001b[39;00m \u001b[38;5;28mself\u001b[39m\u001b[38;5;241m.\u001b[39m_getitem_multilevel(key)\n\u001b[0;32m-> 3896\u001b[0m indexer \u001b[38;5;241m=\u001b[39m \u001b[38;5;28mself\u001b[39m\u001b[38;5;241m.\u001b[39mcolumns\u001b[38;5;241m.\u001b[39mget_loc(key)\n\u001b[1;32m   3897\u001b[0m \u001b[38;5;28;01mif\u001b[39;00m is_integer(indexer):\n\u001b[1;32m   3898\u001b[0m     indexer \u001b[38;5;241m=\u001b[39m [indexer]\n",
      "File \u001b[0;32m~/anaconda3/lib/python3.11/site-packages/pandas/core/indexes/base.py:3797\u001b[0m, in \u001b[0;36mIndex.get_loc\u001b[0;34m(self, key)\u001b[0m\n\u001b[1;32m   3792\u001b[0m     \u001b[38;5;28;01mif\u001b[39;00m \u001b[38;5;28misinstance\u001b[39m(casted_key, \u001b[38;5;28mslice\u001b[39m) \u001b[38;5;129;01mor\u001b[39;00m (\n\u001b[1;32m   3793\u001b[0m         \u001b[38;5;28misinstance\u001b[39m(casted_key, abc\u001b[38;5;241m.\u001b[39mIterable)\n\u001b[1;32m   3794\u001b[0m         \u001b[38;5;129;01mand\u001b[39;00m \u001b[38;5;28many\u001b[39m(\u001b[38;5;28misinstance\u001b[39m(x, \u001b[38;5;28mslice\u001b[39m) \u001b[38;5;28;01mfor\u001b[39;00m x \u001b[38;5;129;01min\u001b[39;00m casted_key)\n\u001b[1;32m   3795\u001b[0m     ):\n\u001b[1;32m   3796\u001b[0m         \u001b[38;5;28;01mraise\u001b[39;00m InvalidIndexError(key)\n\u001b[0;32m-> 3797\u001b[0m     \u001b[38;5;28;01mraise\u001b[39;00m \u001b[38;5;167;01mKeyError\u001b[39;00m(key) \u001b[38;5;28;01mfrom\u001b[39;00m \u001b[38;5;21;01merr\u001b[39;00m\n\u001b[1;32m   3798\u001b[0m \u001b[38;5;28;01mexcept\u001b[39;00m \u001b[38;5;167;01mTypeError\u001b[39;00m:\n\u001b[1;32m   3799\u001b[0m     \u001b[38;5;66;03m# If we have a listlike key, _check_indexing_error will raise\u001b[39;00m\n\u001b[1;32m   3800\u001b[0m     \u001b[38;5;66;03m#  InvalidIndexError. Otherwise we fall through and re-raise\u001b[39;00m\n\u001b[1;32m   3801\u001b[0m     \u001b[38;5;66;03m#  the TypeError.\u001b[39;00m\n\u001b[1;32m   3802\u001b[0m     \u001b[38;5;28mself\u001b[39m\u001b[38;5;241m.\u001b[39m_check_indexing_error(key)\n",
      "\u001b[0;31mKeyError\u001b[0m: 'Geography'"
     ]
    }
   ],
   "source": [
    "\n",
    "# Define the number of districts\n",
    "num_districts = 9\n",
    "\n",
    "# Create the model\n",
    "model = LpProblem(\"Indiana_Redistricting\", LpBinary)\n",
    "\n",
    "# Decision variables: x[county][district] == 1 if county is in district, 0 otherwise\n",
    "x = LpVariable.dicts(\"county_district\", (indiana_population_cleaned['Geography'], range(num_districts)), cat='Binary')\n",
    "\n",
    "# Objective: None specified, could be minimizing the standard deviation of population across districts\n",
    "# This would ensure compactness by minimizing the population spread\n",
    "\n",
    "# Constraints\n",
    "\n",
    "# Each county must be in exactly one district\n",
    "for county in indiana_population_cleaned['Geography']:\n",
    "    model += lpSum(x[county][d] for d in range(num_districts)) == 1, f\"one_district_per_county_{county}\"\n",
    "\n",
    "# Population balance across districts\n",
    "avg_population = indiana_population_cleaned['Total'].sum() / num_districts\n",
    "for d in range(num_districts):\n",
    "    model += lpSum(indiana_population_cleaned.loc[indiana_population_cleaned['Geography'] == county, 'Total'].item() * x[county][d] for county in indiana_population_cleaned['Geography']) \\\n",
    "             <= avg_population * 1.05, f\"max_population_district_{d}\"\n",
    "    model += lpSum(indiana_population_cleaned.loc[indiana_population_cleaned['Geography'] == county, 'Total'].item() * x[county][d] for county in indiana_population_cleaned['Geography']) \\\n",
    "             >= avg_population * 0.95, f\"min_population_district_{d}\"\n",
    "\n",
    "# Adjacency constraint (example for a single district, should be expanded)\n",
    "# model += x['County1'][0] + x['County2'][0] <= 1, \"adjacency_example\"\n",
    "\n",
    "# Solve the problem\n",
    "solver = PULP_CBC_CMD(msg=True)\n",
    "model.solve(solver)\n",
    "\n",
    "# Output results\n",
    "print(\"Status:\", LpStatus[model.status])\n",
    "for v in model.variables():\n",
    "    if v.varValue != 0:\n",
    "        print(v.name, \"=\", v.varValue)\n",
    "\n",
    "# Check outputs and interpret results\n"
   ]
  }
 ],
 "metadata": {
  "kernelspec": {
   "display_name": "Python 3 (ipykernel)",
   "language": "python",
   "name": "python3"
  },
  "language_info": {
   "codemirror_mode": {
    "name": "ipython",
    "version": 3
   },
   "file_extension": ".py",
   "mimetype": "text/x-python",
   "name": "python",
   "nbconvert_exporter": "python",
   "pygments_lexer": "ipython3",
   "version": "3.9.13"
  }
 },
 "nbformat": 4,
 "nbformat_minor": 2
}
