{
 "cells": [
  {
   "cell_type": "code",
   "execution_count": 9,
   "metadata": {},
   "outputs": [
    {
     "ename": "KeyError",
     "evalue": "'Geography'",
     "output_type": "error",
     "traceback": [
      "\u001b[0;31m---------------------------------------------------------------------------\u001b[0m",
      "\u001b[0;31mKeyError\u001b[0m                                  Traceback (most recent call last)",
      "File \u001b[0;32m~/anaconda3/lib/python3.11/site-packages/pandas/core/indexes/base.py:3790\u001b[0m, in \u001b[0;36mIndex.get_loc\u001b[0;34m(self, key)\u001b[0m\n\u001b[1;32m   3789\u001b[0m \u001b[38;5;28;01mtry\u001b[39;00m:\n\u001b[0;32m-> 3790\u001b[0m     \u001b[38;5;28;01mreturn\u001b[39;00m \u001b[38;5;28mself\u001b[39m\u001b[38;5;241m.\u001b[39m_engine\u001b[38;5;241m.\u001b[39mget_loc(casted_key)\n\u001b[1;32m   3791\u001b[0m \u001b[38;5;28;01mexcept\u001b[39;00m \u001b[38;5;167;01mKeyError\u001b[39;00m \u001b[38;5;28;01mas\u001b[39;00m err:\n",
      "File \u001b[0;32mindex.pyx:152\u001b[0m, in \u001b[0;36mpandas._libs.index.IndexEngine.get_loc\u001b[0;34m()\u001b[0m\n",
      "File \u001b[0;32mindex.pyx:181\u001b[0m, in \u001b[0;36mpandas._libs.index.IndexEngine.get_loc\u001b[0;34m()\u001b[0m\n",
      "File \u001b[0;32mpandas/_libs/hashtable_class_helper.pxi:7080\u001b[0m, in \u001b[0;36mpandas._libs.hashtable.PyObjectHashTable.get_item\u001b[0;34m()\u001b[0m\n",
      "File \u001b[0;32mpandas/_libs/hashtable_class_helper.pxi:7088\u001b[0m, in \u001b[0;36mpandas._libs.hashtable.PyObjectHashTable.get_item\u001b[0;34m()\u001b[0m\n",
      "\u001b[0;31mKeyError\u001b[0m: 'Geography'",
      "\nThe above exception was the direct cause of the following exception:\n",
      "\u001b[0;31mKeyError\u001b[0m                                  Traceback (most recent call last)",
      "Cell \u001b[0;32mIn[9], line 16\u001b[0m\n\u001b[1;32m     13\u001b[0m model \u001b[38;5;241m=\u001b[39m LpProblem(\u001b[38;5;124m\"\u001b[39m\u001b[38;5;124mIndiana_Redistricting\u001b[39m\u001b[38;5;124m\"\u001b[39m, LpBinary)\n\u001b[1;32m     15\u001b[0m \u001b[38;5;66;03m# Decision variables: x[county][district] == 1 if county is in district, 0 otherwise\u001b[39;00m\n\u001b[0;32m---> 16\u001b[0m x \u001b[38;5;241m=\u001b[39m LpVariable\u001b[38;5;241m.\u001b[39mdicts(\u001b[38;5;124m\"\u001b[39m\u001b[38;5;124mcounty_district\u001b[39m\u001b[38;5;124m\"\u001b[39m, (indiana_population_cleaned[\u001b[38;5;124m'\u001b[39m\u001b[38;5;124mGeography\u001b[39m\u001b[38;5;124m'\u001b[39m], \u001b[38;5;28mrange\u001b[39m(num_districts)), cat\u001b[38;5;241m=\u001b[39m\u001b[38;5;124m'\u001b[39m\u001b[38;5;124mBinary\u001b[39m\u001b[38;5;124m'\u001b[39m)\n\u001b[1;32m     18\u001b[0m \u001b[38;5;66;03m# Objective: None specified, could be minimizing the standard deviation of population across districts\u001b[39;00m\n\u001b[1;32m     19\u001b[0m \u001b[38;5;66;03m# This would ensure compactness by minimizing the population spread\u001b[39;00m\n\u001b[1;32m     20\u001b[0m \n\u001b[1;32m     21\u001b[0m \u001b[38;5;66;03m# Constraints\u001b[39;00m\n\u001b[1;32m     22\u001b[0m \n\u001b[1;32m     23\u001b[0m \u001b[38;5;66;03m# Each county must be in exactly one district\u001b[39;00m\n\u001b[1;32m     24\u001b[0m \u001b[38;5;28;01mfor\u001b[39;00m county \u001b[38;5;129;01min\u001b[39;00m indiana_population_cleaned[\u001b[38;5;124m'\u001b[39m\u001b[38;5;124mGeography\u001b[39m\u001b[38;5;124m'\u001b[39m]:\n",
      "File \u001b[0;32m~/anaconda3/lib/python3.11/site-packages/pandas/core/frame.py:3896\u001b[0m, in \u001b[0;36mDataFrame.__getitem__\u001b[0;34m(self, key)\u001b[0m\n\u001b[1;32m   3894\u001b[0m \u001b[38;5;28;01mif\u001b[39;00m \u001b[38;5;28mself\u001b[39m\u001b[38;5;241m.\u001b[39mcolumns\u001b[38;5;241m.\u001b[39mnlevels \u001b[38;5;241m>\u001b[39m \u001b[38;5;241m1\u001b[39m:\n\u001b[1;32m   3895\u001b[0m     \u001b[38;5;28;01mreturn\u001b[39;00m \u001b[38;5;28mself\u001b[39m\u001b[38;5;241m.\u001b[39m_getitem_multilevel(key)\n\u001b[0;32m-> 3896\u001b[0m indexer \u001b[38;5;241m=\u001b[39m \u001b[38;5;28mself\u001b[39m\u001b[38;5;241m.\u001b[39mcolumns\u001b[38;5;241m.\u001b[39mget_loc(key)\n\u001b[1;32m   3897\u001b[0m \u001b[38;5;28;01mif\u001b[39;00m is_integer(indexer):\n\u001b[1;32m   3898\u001b[0m     indexer \u001b[38;5;241m=\u001b[39m [indexer]\n",
      "File \u001b[0;32m~/anaconda3/lib/python3.11/site-packages/pandas/core/indexes/base.py:3797\u001b[0m, in \u001b[0;36mIndex.get_loc\u001b[0;34m(self, key)\u001b[0m\n\u001b[1;32m   3792\u001b[0m     \u001b[38;5;28;01mif\u001b[39;00m \u001b[38;5;28misinstance\u001b[39m(casted_key, \u001b[38;5;28mslice\u001b[39m) \u001b[38;5;129;01mor\u001b[39;00m (\n\u001b[1;32m   3793\u001b[0m         \u001b[38;5;28misinstance\u001b[39m(casted_key, abc\u001b[38;5;241m.\u001b[39mIterable)\n\u001b[1;32m   3794\u001b[0m         \u001b[38;5;129;01mand\u001b[39;00m \u001b[38;5;28many\u001b[39m(\u001b[38;5;28misinstance\u001b[39m(x, \u001b[38;5;28mslice\u001b[39m) \u001b[38;5;28;01mfor\u001b[39;00m x \u001b[38;5;129;01min\u001b[39;00m casted_key)\n\u001b[1;32m   3795\u001b[0m     ):\n\u001b[1;32m   3796\u001b[0m         \u001b[38;5;28;01mraise\u001b[39;00m InvalidIndexError(key)\n\u001b[0;32m-> 3797\u001b[0m     \u001b[38;5;28;01mraise\u001b[39;00m \u001b[38;5;167;01mKeyError\u001b[39;00m(key) \u001b[38;5;28;01mfrom\u001b[39;00m \u001b[38;5;21;01merr\u001b[39;00m\n\u001b[1;32m   3798\u001b[0m \u001b[38;5;28;01mexcept\u001b[39;00m \u001b[38;5;167;01mTypeError\u001b[39;00m:\n\u001b[1;32m   3799\u001b[0m     \u001b[38;5;66;03m# If we have a listlike key, _check_indexing_error will raise\u001b[39;00m\n\u001b[1;32m   3800\u001b[0m     \u001b[38;5;66;03m#  InvalidIndexError. Otherwise we fall through and re-raise\u001b[39;00m\n\u001b[1;32m   3801\u001b[0m     \u001b[38;5;66;03m#  the TypeError.\u001b[39;00m\n\u001b[1;32m   3802\u001b[0m     \u001b[38;5;28mself\u001b[39m\u001b[38;5;241m.\u001b[39m_check_indexing_error(key)\n",
      "\u001b[0;31mKeyError\u001b[0m: 'Geography'"
     ]
    }
   ],
   "source": [
    "from pulp import LpProblem, LpVariable, lpSum, LpBinary, PULP_CBC_CMD, LpStatus\n",
    "import pandas as pd\n",
    "\n",
    "# Assuming `indiana_population_cleaned` is already loaded and cleaned as previously shown\n",
    "indiana_population_cleaned = pd.read_csv('/Users/jck/Documents/MSDS 460/Module 6/Assignment3/Indiana Population Dataset.csv')\n",
    "# For adjacency, we'll need a data structure like this, assuming it's available:\n",
    "# adjacency = {'County1': ['County2', 'County3'], ...}\n",
    "\n",
    "# Define the number of districts\n",
    "num_districts = 9\n",
    "\n",
    "# Create the model\n",
    "model = LpProblem(\"Indiana_Redistricting\", LpBinary)\n",
    "\n",
    "# Decision variables: x[county][district] == 1 if county is in district, 0 otherwise\n",
    "x = LpVariable.dicts(\"county_district\", (indiana_population_cleaned['Geography'], range(num_districts)), cat='Binary')\n",
    "\n",
    "# Objective: None specified, could be minimizing the standard deviation of population across districts\n",
    "# This would ensure compactness by minimizing the population spread\n",
    "\n",
    "# Constraints\n",
    "\n",
    "# Each county must be in exactly one district\n",
    "for county in indiana_population_cleaned['Geography']:\n",
    "    model += lpSum(x[county][d] for d in range(num_districts)) == 1, f\"one_district_per_county_{county}\"\n",
    "\n",
    "# Population balance across districts\n",
    "avg_population = indiana_population_cleaned['Total'].sum() / num_districts\n",
    "for d in range(num_districts):\n",
    "    model += lpSum(indiana_population_cleaned.loc[indiana_population_cleaned['Geography'] == county, 'Total'].item() * x[county][d] for county in indiana_population_cleaned['Geography']) \\\n",
    "             <= avg_population * 1.05, f\"max_population_district_{d}\"\n",
    "    model += lpSum(indiana_population_cleaned.loc[indiana_population_cleaned['Geography'] == county, 'Total'].item() * x[county][d] for county in indiana_population_cleaned['Geography']) \\\n",
    "             >= avg_population * 0.95, f\"min_population_district_{d}\"\n",
    "\n",
    "# Adjacency constraint (example for a single district, should be expanded)\n",
    "# model += x['County1'][0] + x['County2'][0] <= 1, \"adjacency_example\"\n",
    "\n",
    "# Solve the problem\n",
    "solver = PULP_CBC_CMD(msg=True)\n",
    "model.solve(solver)\n",
    "\n",
    "# Output results\n",
    "print(\"Status:\", LpStatus[model.status])\n",
    "for v in model.variables():\n",
    "    if v.varValue != 0:\n",
    "        print(v.name, \"=\", v.varValue)\n",
    "\n",
    "# Check outputs and interpret results\n"
   ]
  }
 ],
 "metadata": {
  "kernelspec": {
   "display_name": "base",
   "language": "python",
   "name": "python3"
  },
  "language_info": {
   "codemirror_mode": {
    "name": "ipython",
    "version": 3
   },
   "file_extension": ".py",
   "mimetype": "text/x-python",
   "name": "python",
   "nbconvert_exporter": "python",
   "pygments_lexer": "ipython3",
   "version": "3.11.5"
  }
 },
 "nbformat": 4,
 "nbformat_minor": 2
}
