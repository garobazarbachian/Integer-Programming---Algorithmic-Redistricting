{
 "cells": [
  {
   "cell_type": "code",
   "execution_count": 1,
   "metadata": {},
   "outputs": [
    {
     "name": "stdout",
     "output_type": "stream",
     "text": [
      "Welcome to the CBC MILP Solver \n",
      "Version: 2.10.3 \n",
      "Build Date: Dec 15 2019 \n",
      "\n",
      "command line - /Users/jck/anaconda3/lib/python3.11/site-packages/pulp/solverdir/cbc/osx/64/cbc /var/folders/xc/3wsqwp_x79lbx1l9yz7pgf780000gn/T/980da585065842358d479e0dca18b108-pulp.mps -timeMode elapsed -branch -printingOptions all -solution /var/folders/xc/3wsqwp_x79lbx1l9yz7pgf780000gn/T/980da585065842358d479e0dca18b108-pulp.sol (default strategy 1)\n",
      "At line 2 NAME          MODEL\n",
      "At line 3 ROWS\n",
      "At line 23 COLUMNS\n",
      "At line 25 RHS\n",
      "At line 44 BOUNDS\n",
      "At line 46 ENDATA\n",
      "Problem MODEL has 18 rows, 1 columns and 0 elements\n",
      "Coin0008I MODEL read with 0 errors\n",
      "Option for timeMode changed from cpu to elapsed\n",
      "Empty problem - 18 rows, 1 columns and 0 elements\n",
      "Optimal - objective value 0\n",
      "Optimal objective 0 - 0 iterations time 0.002\n",
      "Option for printingOptions changed from normal to all\n",
      "Total time (CPU seconds):       0.00   (Wallclock seconds):       0.01\n",
      "\n"
     ]
    }
   ],
   "source": [
    "link = '/Users/jck/Documents/MSDS 460/Module 6/Assignment3/Indiana Population Dataset.csv'\n",
    "import pandas as pd\n",
    "import pulp\n",
    "\n",
    "# Load and prepare the cleaned data\n",
    "data = pd.read_csv(link)  # Replace 'link' with the actual URL or file path\n",
    "\n",
    "# Ensure 'Total' and '% White' columns are correctly typed\n",
    "data['Total'] = pd.to_numeric(data['Total'], errors='coerce')\n",
    "data['% White'] = pd.to_numeric(data['% White'].str.rstrip('%'), errors='coerce') / 100\n",
    "\n",
    "# Drop any rows where conversions failed (if any)\n",
    "data.dropna(subset=['Total', '% White'], inplace=True)\n",
    "\n",
    "# Define the problem\n",
    "problem = pulp.LpProblem(\"Indiana_Redistricting\", pulp.LpMinimize)\n",
    "\n",
    "# Create binary variables: x[i, j] is 1 if county i is assigned to district j, else 0\n",
    "x = pulp.LpVariable.dicts(\"county_district\",\n",
    "                          ((i, j) for i in data.index for j in range(9)),\n",
    "                          cat='Binary')\n",
    "\n",
    "# Pre-calculate the average % White across all counties\n",
    "avg_white = data['% White'].mean()\n",
    "\n",
    "# Objective Function: Minimize the difference in racial composition (% White) across districts\n",
    "problem += pulp.lpSum([x[i, j] * (data.loc[i, '% White'] - avg_white)**2 for i in data.index for j in range(9)])\n",
    "\n",
    "# Constraints\n",
    "# Each county must be in exactly one district\n",
    "for i in data.index:\n",
    "    problem += pulp.lpSum([x[i, j] for j in range(9)]) == 1, f\"One_district_{i}\"\n",
    "\n",
    "# Balance the total population in each district\n",
    "average_population = data['Total'].sum() / 9\n",
    "for j in range(9):\n",
    "    problem += pulp.lpSum([x[i, j] * data.loc[i, 'Total'] for i in data.index]) <= 1.05 * average_population, f\"Max_Pop_{j}\"\n",
    "    problem += pulp.lpSum([x[i, j] * data.loc[i, 'Total'] for i in data.index]) >= 0.95 * average_population, f\"Min_Pop_{j}\"\n",
    "\n",
    "# Solve the problem\n",
    "problem.solve()\n",
    "\n",
    "# Check the status of the solution and print the results if solved successfully\n",
    "if problem.status == pulp.LpStatusOptimal:\n",
    "    for v in problem.variables():\n",
    "        if v.varValue is not None and v.varValue > 0:\n",
    "            print(v.name, \"=\", v.varValue)\n",
    "else:\n",
    "    print(\"Problem not solved to optimality. Status:\", pulp.LpStatus[problem.status])\n",
    "\n"
   ]
  }
 ],
 "metadata": {
  "kernelspec": {
   "display_name": "base",
   "language": "python",
   "name": "python3"
  },
  "language_info": {
   "codemirror_mode": {
    "name": "ipython",
    "version": 3
   },
   "file_extension": ".py",
   "mimetype": "text/x-python",
   "name": "python",
   "nbconvert_exporter": "python",
   "pygments_lexer": "ipython3",
   "version": "3.11.5"
  }
 },
 "nbformat": 4,
 "nbformat_minor": 2
}
